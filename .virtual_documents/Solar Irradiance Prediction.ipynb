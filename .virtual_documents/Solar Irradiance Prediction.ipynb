





import tensorflow as tf print("Num GPUs Available: ", len(tf.config.experimental.list_physical_devices('GPU')))


import warnings
warnings.filterwarnings('ignore')

import pandas as pd
import numpy as np

import seaborn as sns
import matplotlib.pyplot as plt

from scipy import stats

import re

from sklearn.preprocessing import StandardScaler, MinMaxScaler

from sklearn.ensemble import ExtraTreesClassifier
from sklearn.feature_selection import SelectKBest, chi2

from sklearn.model_selection import train_test_split
import xgboost as xgb

from tensorflow.keras.layers import Dense, Dropout, Activation
from tensorflow.keras.optimizers import SGD, Adam
from tensorflow.keras.models import Sequential

from sklearn.metrics import mean_absolute_error, mean_squared_error, r2_score





data = pd.read_csv('SolarPrediction.csv')
data.head()


data.info()





df = data.copy()


df['Data'] = df['Data'].apply(lambda x: x.split()[0])


df.head()


df['Month'] = pd.to_datetime(df['Data']).dt.month
df['Day'] = pd.to_datetime(df['Data']).dt.day

df['Hour'] = pd.to_datetime(df['Time']).dt.hour
df['Minute'] = pd.to_datetime(df['Time']).dt.minute
df['Second'] = pd.to_datetime(df['Time']).dt.second


df.head()


# extract the sunrise and sunset information using regular expression
df['risehour'] = df['TimeSunRise'].apply(lambda x : re.search(r'^\d+', x).group(0)).astype(int)
df['riseminute'] = df['TimeSunRise'].apply(lambda x : re.search(r'(?<=\:)\d+(?=\:)', x).group(0)).astype(int)

df['sethour'] = df['TimeSunSet'].apply(lambda x : re.search(r'^\d+', x).group(0)).astype(int)
df['setminute'] = df['TimeSunSet'].apply(lambda x : re.search(r'(?<=\:)\d+(?=\:)', x).group(0)).astype(int)


df.head()


df.drop(['UNIXTime','Data','Time','TimeSunRise','TimeSunSet'], axis=1, inplace=True)


df.shape


df.head()


df.isna().sum()


input_features = df.drop(['Radiation'], axis=1)
target = df['Radiation']





corr_matrix = df.corr()
corr_matrix


plt.figure(figsize=(20,20))
sns.heatmap(corr_matrix, annot=True)
plt.show()





bestFeatures = SelectKBest(score_func=chi2, k=10)


# from sklearn.preprocessing import LabelEncoder
# le = LabelEncoder()
# train_Y = le.fit_transform(target)

target_cont = df['Radiation'].apply(lambda x: int(x*100))


scaled_input_feature = MinMaxScaler().fit_transform(input_features)
fit = bestFeatures.fit(scaled_input_feature, target_cont)


scores = pd.DataFrame(fit.scores_)
column = pd.DataFrame(input_features.columns)


featureScores = pd.concat([column, scores], axis=1)


featureScores.columns = ['features', 'feature_imp']


featureScores.sort_values(by='feature_imp', ascending=False, inplace=True)
featureScores


plt.figure(figsize=(10,6))
plt.bar(featureScores['features'], featureScores['feature_imp'])
plt.xticks(rotation=90)
plt.show()





model = ExtraTreesClassifier(n_estimators=6,verbose=2)
model.fit(scaled_input_feature, target_cont)


feature_importances = pd.DataFrame(model.feature_importances_, index = input_features.columns, columns = ["feature_imp"])
feature_importances.sort_values(by = 'feature_imp', ascending=False, inplace = True)
feature_importances


plt.figure(figsize=(10,6))
plt.bar(feature_importances.index, feature_importances['feature_imp'])
plt.xticks(rotation=90)
plt.xlabel('Features')
plt.ylabel('Importance')
plt.title('Feature Importance Using Extra Tree Classfier')
plt.show()





features_to_transform = ['Temperature', 'Pressure', 'Humidity', 'Speed', 'WindDirection(Degrees)']

for i in features_to_transform:
    
    fig, (ax1, ax2, ax3, ax4, ax5) = plt.subplots(5, 1, figsize=(10, 5))
    
    pd.DataFrame(input_features[i]).hist(ax = ax1, bins = 50)
    pd.DataFrame((input_features[i]+1).transform(np.log)).hist(ax = ax2, bins = 50)
    pd.DataFrame(stats.boxcox(input_features[i]+1)[0]).hist(ax = ax3, bins = 50)    
    pd.DataFrame(StandardScaler().fit_transform(np.array(input_features[i]).reshape(-1, 1))).hist(ax = ax4, bins = 50)
    pd.DataFrame(MinMaxScaler().fit_transform(np.array(input_features[i]).reshape(-1, 1))).hist(ax = ax5, bins = 50)
    
    ax1.set_ylabel('Normal')
    ax2.set_ylabel('Log')
    ax3.set_ylabel('Box Cox')
    ax4.set_ylabel('Standard')
    ax5.set_ylabel('MinMax')


transform = {'Temperature' : (input_features['Temperature']+1).transform(np.log), 
             'Pressure': stats.boxcox(input_features['Pressure']+1)[0], 
             'Humidity' : stats.boxcox(input_features['Humidity']+1)[0], 
             'Speed' : (input_features['Speed']+1).transform(np.log), 
             'WindDirection(Degrees)' : MinMaxScaler().fit_transform(
                np.array(input_features['WindDirection(Degrees)']).reshape(-1, 1))}

for i in transform:
    input_features[i] = transform[i]


input_features.head()





X_train, X_test, y_train, y_test = train_test_split(input_features, target, test_size=0.2, random_state=1)

scaler = StandardScaler()

X_train = scaler.fit_transform(X_train)
X_test = scaler.transform(X_test)


X_train.shape, X_test.shape





from xgboost import XGBRegressor

params = {'learning_rate': 0.1,
          'max_depth': 8}

model = XGBRegressor(**params)


model.fit(X_train, y_train)


y_pred = model.predict(X_test)


rmse = np.sqrt(mean_squared_error(y_test, y_pred))
r2 = r2_score(y_test, y_pred)

print('Testing Performance :')
print('RMSE : {:.2f}'.format(rmse))
print('R2 Score : {:.2f}'.format(r2))








model = None
model = Sequential()

model.add(Dense(128, activation='relu', input_dim=14))
model.add(Dropout(0.33))

model.add(Dense(64, activation='relu'))
model.add(Dropout(0.33))

model.add(Dense(32, activation='relu'))
model.add(Dropout(0.33))

model.add(Dense(1, activation='relu'))

model.compile(metrics='mse', loss='mae', optimizer = Adam(learning_rate=0.001))
print(model.summary())


history = model.fit(X_train, y_train, validation_split=0.1, epochs=50, batch_size=32)


fit = history.history
for i in fit:
    plt.plot(fit[i])
    plt.title(i + ' over epochs')
    plt.ylabel(i)
    plt.xlabel('epochs')
    plt.show()



